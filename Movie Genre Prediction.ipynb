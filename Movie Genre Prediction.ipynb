{
 "cells": [
  {
   "cell_type": "code",
   "execution_count": 139,
   "metadata": {},
   "outputs": [],
   "source": [
    "import pandas as pd\n",
    "import numpy as np"
   ]
  },
  {
   "cell_type": "code",
   "execution_count": 140,
   "metadata": {},
   "outputs": [
    {
     "data": {
      "text/html": [
       "<div>\n",
       "<style scoped>\n",
       "    .dataframe tbody tr th:only-of-type {\n",
       "        vertical-align: middle;\n",
       "    }\n",
       "\n",
       "    .dataframe tbody tr th {\n",
       "        vertical-align: top;\n",
       "    }\n",
       "\n",
       "    .dataframe thead th {\n",
       "        text-align: right;\n",
       "    }\n",
       "</style>\n",
       "<table border=\"1\" class=\"dataframe\">\n",
       "  <thead>\n",
       "    <tr style=\"text-align: right;\">\n",
       "      <th></th>\n",
       "      <th>id</th>\n",
       "      <th>text</th>\n",
       "      <th>genre</th>\n",
       "    </tr>\n",
       "  </thead>\n",
       "  <tbody>\n",
       "    <tr>\n",
       "      <th>0</th>\n",
       "      <td>0</td>\n",
       "      <td>eady dead, maybe even wishing he was. INT. 2ND...</td>\n",
       "      <td>thriller</td>\n",
       "    </tr>\n",
       "    <tr>\n",
       "      <th>1</th>\n",
       "      <td>2</td>\n",
       "      <td>t, summa cum laude and all. And I'm about to l...</td>\n",
       "      <td>comedy</td>\n",
       "    </tr>\n",
       "    <tr>\n",
       "      <th>2</th>\n",
       "      <td>3</td>\n",
       "      <td>up Come, I have a surprise.... She takes him ...</td>\n",
       "      <td>drama</td>\n",
       "    </tr>\n",
       "    <tr>\n",
       "      <th>3</th>\n",
       "      <td>4</td>\n",
       "      <td>ded by the two detectives. INT. JEFF'S APARTME...</td>\n",
       "      <td>thriller</td>\n",
       "    </tr>\n",
       "    <tr>\n",
       "      <th>4</th>\n",
       "      <td>5</td>\n",
       "      <td>nd dismounts, just as the other children reach...</td>\n",
       "      <td>drama</td>\n",
       "    </tr>\n",
       "    <tr>\n",
       "      <th>5</th>\n",
       "      <td>6</td>\n",
       "      <td>breadth of the bluff. Gabe pulls out his ancie...</td>\n",
       "      <td>thriller</td>\n",
       "    </tr>\n",
       "    <tr>\n",
       "      <th>6</th>\n",
       "      <td>7</td>\n",
       "      <td>uilding. A MAN in pajamas runs out into the ra...</td>\n",
       "      <td>thriller</td>\n",
       "    </tr>\n",
       "    <tr>\n",
       "      <th>7</th>\n",
       "      <td>9</td>\n",
       "      <td>ELLES AND RITA HAYWORTH Just disgustingly rich...</td>\n",
       "      <td>drama</td>\n",
       "    </tr>\n",
       "    <tr>\n",
       "      <th>8</th>\n",
       "      <td>10</td>\n",
       "      <td>Memphis goes back into the garage, Budgy cack...</td>\n",
       "      <td>thriller</td>\n",
       "    </tr>\n",
       "    <tr>\n",
       "      <th>9</th>\n",
       "      <td>11</td>\n",
       "      <td>e reels as the world spins. Sweat pours off hi...</td>\n",
       "      <td>action</td>\n",
       "    </tr>\n",
       "  </tbody>\n",
       "</table>\n",
       "</div>"
      ],
      "text/plain": [
       "   id                                               text     genre\n",
       "0   0  eady dead, maybe even wishing he was. INT. 2ND...  thriller\n",
       "1   2  t, summa cum laude and all. And I'm about to l...    comedy\n",
       "2   3   up Come, I have a surprise.... She takes him ...     drama\n",
       "3   4  ded by the two detectives. INT. JEFF'S APARTME...  thriller\n",
       "4   5  nd dismounts, just as the other children reach...     drama\n",
       "5   6  breadth of the bluff. Gabe pulls out his ancie...  thriller\n",
       "6   7  uilding. A MAN in pajamas runs out into the ra...  thriller\n",
       "7   9  ELLES AND RITA HAYWORTH Just disgustingly rich...     drama\n",
       "8  10   Memphis goes back into the garage, Budgy cack...  thriller\n",
       "9  11  e reels as the world spins. Sweat pours off hi...    action"
      ]
     },
     "execution_count": 140,
     "metadata": {},
     "output_type": "execute_result"
    }
   ],
   "source": [
    "df= pd.read_csv(\"C:\\\\Users\\\\anish\\\\Documents\\\\DATA_SCIENCE_JUPYTER\\\\GITHUB PROJECTS\\\\NLP\\\\kaggle_movie_train.csv\")\n",
    "df.head(10)"
   ]
  },
  {
   "cell_type": "code",
   "execution_count": 141,
   "metadata": {},
   "outputs": [
    {
     "data": {
      "text/plain": [
       "(22579, 3)"
      ]
     },
     "execution_count": 141,
     "metadata": {},
     "output_type": "execute_result"
    }
   ],
   "source": [
    "df.shape"
   ]
  },
  {
   "cell_type": "code",
   "execution_count": 142,
   "metadata": {},
   "outputs": [],
   "source": [
    "import matplotlib.pyplot as plt\n",
    "import seaborn as sns\n",
    "%matplotlib inline"
   ]
  },
  {
   "cell_type": "code",
   "execution_count": 143,
   "metadata": {},
   "outputs": [
    {
     "data": {
      "image/png": "[encoded data removed]",
      "text/plain": [
       "<Figure size 864x864 with 1 Axes>"
      ]
     },
     "metadata": {
      "needs_background": "light"
     },
     "output_type": "display_data"
    }
   ],
   "source": [
    "plt.figure(figsize=(12,12))\n",
    "sns.countplot(x='genre', data=df)\n",
    "plt.xlabel('Movie Genres')\n",
    "plt.ylabel('Count')\n",
    "plt.title('Genre Plot')\n",
    "plt.show()\n"
   ]
  },
  {
   "cell_type": "code",
   "execution_count": 144,
   "metadata": {},
   "outputs": [
    {
     "data": {
      "text/plain": [
       "['action',\n",
       " 'adventure',\n",
       " 'comedy',\n",
       " 'drama',\n",
       " 'horror',\n",
       " 'other',\n",
       " 'romance',\n",
       " 'sci-fi',\n",
       " 'thriller']"
      ]
     },
     "execution_count": 144,
     "metadata": {},
     "output_type": "execute_result"
    }
   ],
   "source": [
    "movie_genre = list(df['genre'].unique())\n",
    "movie_genre.sort()\n",
    "movie_genre"
   ]
  },
  {
   "cell_type": "code",
   "execution_count": 145,
   "metadata": {},
   "outputs": [
    {
     "data": {
      "text/html": [
       "<div>\n",
       "<style scoped>\n",
       "    .dataframe tbody tr th:only-of-type {\n",
       "        vertical-align: middle;\n",
       "    }\n",
       "\n",
       "    .dataframe tbody tr th {\n",
       "        vertical-align: top;\n",
       "    }\n",
       "\n",
       "    .dataframe thead th {\n",
       "        text-align: right;\n",
       "    }\n",
       "</style>\n",
       "<table border=\"1\" class=\"dataframe\">\n",
       "  <thead>\n",
       "    <tr style=\"text-align: right;\">\n",
       "      <th></th>\n",
       "      <th>id</th>\n",
       "      <th>text</th>\n",
       "      <th>genre</th>\n",
       "    </tr>\n",
       "  </thead>\n",
       "  <tbody>\n",
       "    <tr>\n",
       "      <th>0</th>\n",
       "      <td>0</td>\n",
       "      <td>eady dead, maybe even wishing he was. INT. 2ND...</td>\n",
       "      <td>8</td>\n",
       "    </tr>\n",
       "    <tr>\n",
       "      <th>1</th>\n",
       "      <td>2</td>\n",
       "      <td>t, summa cum laude and all. And I'm about to l...</td>\n",
       "      <td>2</td>\n",
       "    </tr>\n",
       "    <tr>\n",
       "      <th>2</th>\n",
       "      <td>3</td>\n",
       "      <td>up Come, I have a surprise.... She takes him ...</td>\n",
       "      <td>3</td>\n",
       "    </tr>\n",
       "    <tr>\n",
       "      <th>3</th>\n",
       "      <td>4</td>\n",
       "      <td>ded by the two detectives. INT. JEFF'S APARTME...</td>\n",
       "      <td>8</td>\n",
       "    </tr>\n",
       "    <tr>\n",
       "      <th>4</th>\n",
       "      <td>5</td>\n",
       "      <td>nd dismounts, just as the other children reach...</td>\n",
       "      <td>3</td>\n",
       "    </tr>\n",
       "  </tbody>\n",
       "</table>\n",
       "</div>"
      ],
      "text/plain": [
       "   id                                               text  genre\n",
       "0   0  eady dead, maybe even wishing he was. INT. 2ND...      8\n",
       "1   2  t, summa cum laude and all. And I'm about to l...      2\n",
       "2   3   up Come, I have a surprise.... She takes him ...      3\n",
       "3   4  ded by the two detectives. INT. JEFF'S APARTME...      8\n",
       "4   5  nd dismounts, just as the other children reach...      3"
      ]
     },
     "execution_count": 145,
     "metadata": {},
     "output_type": "execute_result"
    }
   ],
   "source": [
    "genre_mapper={\"action\": 0, \"adventure\": 1, \"comedy\": 2, \"drama\": 3, \"horror\": 4, \"other\": 5, \"romance\": 6, \"sci-fi\": 7, \"thriller\": 8}\n",
    "df[\"genre\"]= df[\"genre\"].map(genre_mapper)\n",
    "df.head()"
   ]
  },
  {
   "cell_type": "code",
   "execution_count": 146,
   "metadata": {},
   "outputs": [
    {
     "data": {
      "text/plain": [
       "id       False\n",
       "text     False\n",
       "genre    False\n",
       "dtype: bool"
      ]
     },
     "execution_count": 146,
     "metadata": {},
     "output_type": "execute_result"
    }
   ],
   "source": [
    "df.isna().any()"
   ]
  },
  {
   "cell_type": "code",
   "execution_count": 147,
   "metadata": {},
   "outputs": [
    {
     "data": {
      "text/plain": [
       "Index(['text', 'genre'], dtype='object')"
      ]
     },
     "execution_count": 147,
     "metadata": {},
     "output_type": "execute_result"
    }
   ],
   "source": [
    "df.drop('id', axis=1, inplace=True)\n",
    "df.columns"
   ]
  },
  {
   "cell_type": "code",
   "execution_count": 148,
   "metadata": {},
   "outputs": [
    {
     "name": "stderr",
     "output_type": "stream",
     "text": [
      "[nltk_data] Downloading package stopwords to\n",
      "[nltk_data]     C:\\Users\\anish\\AppData\\Roaming\\nltk_data...\n",
      "[nltk_data]   Package stopwords is already up-to-date!\n"
     ]
    }
   ],
   "source": [
    "import nltk\n",
    "import re\n",
    "nltk.download('stopwords')\n",
    "from nltk.corpus import stopwords\n",
    "from nltk.stem.porter import PorterStemmer"
   ]
  },
  {
   "cell_type": "code",
   "execution_count": 149,
   "metadata": {},
   "outputs": [
    {
     "data": {
      "text/plain": [
       "(22579, 2)"
      ]
     },
     "execution_count": 149,
     "metadata": {},
     "output_type": "execute_result"
    }
   ],
   "source": [
    "df.shape"
   ]
  },
  {
   "cell_type": "code",
   "execution_count": 150,
   "metadata": {},
   "outputs": [],
   "source": [
    "#Cleaning the text\n",
    "ps= PorterStemmer()\n",
    "corpus=[]\n",
    "for i in range(0, df.shape[0]):\n",
    "    \n",
    "    dialog= re.sub(pattern=\"[a-zA-Z]\", repl=\" \", string= df[\"text\"][i])\n",
    "    dialog= dialog.lower()\n",
    "    words= dialog.split()\n",
    "    stop_words= [word for word in words if word not in set(stopwords.words('english'))]\n",
    "    words= [ps.stem(word)for word in stop_words]\n",
    "    dialog= \" \".join(words)\n",
    "    corpus.append(dialog)"
   ]
  },
  {
   "cell_type": "code",
   "execution_count": 151,
   "metadata": {},
   "outputs": [
    {
     "data": {
      "text/plain": [
       "[\", . ' ! , . . . ? . . . . ' . ? . . . . ' . . , , ... . . , , . ' ... ' ... . . . . ... .\",\n",
       " \", .... . . , , , . . , ' . , , , . , ' . ! , . , . , , . , ... , . , . , , ,\",\n",
       " \". . ' ' . . ' ' , ' . . . ' . . . , , . . . ' ' . ' . . , . . , ' , , ' . . . ' ! ,\",\n",
       " \", ... ... ... ... . . . . ' . . ' , , , , . , . , . . , , , , . . , . . ' . ,\",\n",
       " \". . ' . , , . , . ' . . . , . . ? ' , ' . . ? . . . . ' . . .\",\n",
       " \". . ' . . . . , , . , , . ' , . . ' , . , . . ' . .\",\n",
       " \"! ' ' , . , ' . ' , ' . , ' , . ' ' , ! , ' . , ' ? ' , , , ' , . . ' , '\",\n",
       " \", . . . , 20, ... , , , ... ' ... . ... ... . . ' . ... ... . , ... , 1996 8, ... ? ' ',\",\n",
       " \". . ' ! ' ! ' ! , . . ' , . . . ' , ? . . , ? , . . . . . . ' . . , . ,\"]"
      ]
     },
     "execution_count": 151,
     "metadata": {},
     "output_type": "execute_result"
    }
   ],
   "source": [
    "corpus[1:10]"
   ]
  },
  {
   "cell_type": "code",
   "execution_count": 152,
   "metadata": {},
   "outputs": [
    {
     "data": {
      "text/plain": [
       "Int64Index([  236,   241,   271,   307,   365,   376,   399,   436,   448,\n",
       "              512,\n",
       "            ...\n",
       "            22062, 22063, 22155, 22246, 22481, 22513, 22522, 22526, 22557,\n",
       "            22573],\n",
       "           dtype='int64', length=456)"
      ]
     },
     "execution_count": 152,
     "metadata": {},
     "output_type": "execute_result"
    }
   ],
   "source": [
    "df[df[\"genre\"]==4].index"
   ]
  },
  {
   "cell_type": "code",
   "execution_count": 153,
   "metadata": {},
   "outputs": [
    {
     "data": {
      "text/plain": [
       "22579"
      ]
     },
     "execution_count": 153,
     "metadata": {},
     "output_type": "execute_result"
    }
   ],
   "source": [
    "len(corpus)"
   ]
  },
  {
   "cell_type": "code",
   "execution_count": 154,
   "metadata": {},
   "outputs": [],
   "source": [
    "from sklearn.feature_extraction.text import CountVectorizer\n",
    "cv = CountVectorizer(max_features=10000, ngram_range=(1,2))\n",
    "X = cv.fit_transform(corpus).toarray()"
   ]
  },
  {
   "cell_type": "code",
   "execution_count": 155,
   "metadata": {},
   "outputs": [],
   "source": [
    "y= df[\"genre\"].values"
   ]
  },
  {
   "cell_type": "markdown",
   "metadata": {},
   "source": [
    "# Model Building"
   ]
  },
  {
   "cell_type": "code",
   "execution_count": 156,
   "metadata": {},
   "outputs": [
    {
     "name": "stdout",
     "output_type": "stream",
     "text": [
      "X_train size: (18063, 7538), X_test size: (4516, 7538)\n"
     ]
    }
   ],
   "source": [
    "from sklearn.model_selection import train_test_split\n",
    "X_train, X_test, y_train, y_test = train_test_split(X, y, test_size=0.20, random_state=0)\n",
    "print('X_train size: {}, X_test size: {}'.format(X_train.shape, X_test.shape))"
   ]
  },
  {
   "cell_type": "markdown",
   "metadata": {},
   "source": [
    "Multinomial Navie Bayes"
   ]
  },
  {
   "cell_type": "code",
   "execution_count": 170,
   "metadata": {},
   "outputs": [
    {
     "data": {
      "text/plain": [
       "MultinomialNB()"
      ]
     },
     "execution_count": 170,
     "metadata": {},
     "output_type": "execute_result"
    }
   ],
   "source": [
    "from sklearn.naive_bayes import MultinomialNB\n",
    "nb_classifier = MultinomialNB()\n",
    "nb_classifier.fit(X_train, y_train)"
   ]
  },
  {
   "cell_type": "code",
   "execution_count": 171,
   "metadata": {},
   "outputs": [],
   "source": [
    "y_test_pred= nb_classifier.predict(X_test)"
   ]
  },
  {
   "cell_type": "code",
   "execution_count": 172,
   "metadata": {},
   "outputs": [
    {
     "name": "stdout",
     "output_type": "stream",
     "text": [
      "---- Score ----\n",
      "Accuracy score is: 43.2%\n"
     ]
    }
   ],
   "source": [
    "from sklearn.metrics import accuracy_score\n",
    "score1 = accuracy_score(y_test, y_test_pred)\n",
    "print(\"---- Score ----\")\n",
    "print(\"Accuracy score is: {}%\".format(round(score1*100,2)))"
   ]
  },
  {
   "cell_type": "code",
   "execution_count": 160,
   "metadata": {},
   "outputs": [],
   "source": [
    "from sklearn.metrics import confusion_matrix\n",
    "nb_cm = confusion_matrix(y_test, y_test_pred)"
   ]
  },
  {
   "cell_type": "code",
   "execution_count": 161,
   "metadata": {},
   "outputs": [
    {
     "data": {
      "text/plain": [
       "array([[   9,    0,    3,  404,    0,    0,    0,    1,   59],\n",
       "       [   0,    0,    0,   45,    0,    0,    0,    0,    0],\n",
       "       [   1,    0,   21,  467,    0,    0,    0,    0,   70],\n",
       "       [   7,    0,    5, 1679,    0,    0,    0,    1,  135],\n",
       "       [   0,    0,    0,   78,    0,    0,    0,    0,    4],\n",
       "       [   0,    0,    0,   64,    0,    0,    0,    0,    2],\n",
       "       [   0,    0,    0,   11,    0,    0,    0,    0,    0],\n",
       "       [   1,    0,    3,   74,    1,    0,    0,   10,   43],\n",
       "       [   3,    0,    6, 1071,    2,    0,    0,    4,  232]],\n",
       "      dtype=int64)"
      ]
     },
     "execution_count": 161,
     "metadata": {},
     "output_type": "execute_result"
    }
   ],
   "source": [
    "nb_cm"
   ]
  },
  {
   "cell_type": "markdown",
   "metadata": {},
   "source": [
    "# Predictions"
   ]
  },
  {
   "cell_type": "code",
   "execution_count": 192,
   "metadata": {},
   "outputs": [],
   "source": [
    "def genre_predictions(sample_script):\n",
    "    sample_script= re.sub(pattern=\"[a-zA-Z]\", repl=\" \", string= sample_script)\n",
    "    sample_script= sample_script.lower()\n",
    "    sample_script_split= sample_script.split()\n",
    "    sample_script_split= [word for word in sample_script_split if not word in set(stopwords.words(\"english\"))]\n",
    "    ps=PorterStemmer()\n",
    "    final_script= [ps.stem(word) for word in sample_script_split]\n",
    "    final_script= \" \".join(final_script)\n",
    "    \n",
    "    temp= cv.transform([final_script]).toarray()\n",
    "    return nb_classifier.predict(temp)[0]"
   ]
  },
  {
   "cell_type": "code",
   "execution_count": 193,
   "metadata": {},
   "outputs": [
    {
     "data": {
      "text/plain": [
       "Index(['id', 'text'], dtype='object')"
      ]
     },
     "execution_count": 193,
     "metadata": {},
     "output_type": "execute_result"
    }
   ],
   "source": [
    "#importing test data\n",
    "test= pd.read_csv(\"C:\\\\Users\\\\anish\\\\Documents\\\\DATA_SCIENCE_JUPYTER\\\\GITHUB PROJECTS\\\\NLP\\\\kaggle_movie_test.csv\")\n",
    "test.columns"
   ]
  },
  {
   "cell_type": "code",
   "execution_count": 194,
   "metadata": {},
   "outputs": [
    {
     "data": {
      "text/plain": [
       "(5589, 2)"
      ]
     },
     "execution_count": 194,
     "metadata": {},
     "output_type": "execute_result"
    }
   ],
   "source": [
    "test.shape"
   ]
  },
  {
   "cell_type": "code",
   "execution_count": 195,
   "metadata": {},
   "outputs": [
    {
     "data": {
      "text/html": [
       "<div>\n",
       "<style scoped>\n",
       "    .dataframe tbody tr th:only-of-type {\n",
       "        vertical-align: middle;\n",
       "    }\n",
       "\n",
       "    .dataframe tbody tr th {\n",
       "        vertical-align: top;\n",
       "    }\n",
       "\n",
       "    .dataframe thead th {\n",
       "        text-align: right;\n",
       "    }\n",
       "</style>\n",
       "<table border=\"1\" class=\"dataframe\">\n",
       "  <thead>\n",
       "    <tr style=\"text-align: right;\">\n",
       "      <th></th>\n",
       "      <th>text</th>\n",
       "    </tr>\n",
       "  </thead>\n",
       "  <tbody>\n",
       "    <tr>\n",
       "      <th>0</th>\n",
       "      <td>glances at her. BOOK Maybe I ought to learn t...</td>\n",
       "    </tr>\n",
       "    <tr>\n",
       "      <th>1</th>\n",
       "      <td>hout breaking stride. Tatiana sees her and can...</td>\n",
       "    </tr>\n",
       "    <tr>\n",
       "      <th>2</th>\n",
       "      <td>dead bodies. GEORDI Mitchell... DePaul... LANG...</td>\n",
       "    </tr>\n",
       "    <tr>\n",
       "      <th>3</th>\n",
       "      <td>take myself. BRANDON How bad is the other thi...</td>\n",
       "    </tr>\n",
       "    <tr>\n",
       "      <th>4</th>\n",
       "      <td>her body to shield his own. KAY Freeze it, Bug...</td>\n",
       "    </tr>\n",
       "    <tr>\n",
       "      <th>5</th>\n",
       "      <td>im from ear to ear. Ya want me to make a state...</td>\n",
       "    </tr>\n",
       "    <tr>\n",
       "      <th>6</th>\n",
       "      <td>BEN We need to help Reed Sue shakes her head,...</td>\n",
       "    </tr>\n",
       "    <tr>\n",
       "      <th>7</th>\n",
       "      <td>slowly. At the entrance to the alley stands a ...</td>\n",
       "    </tr>\n",
       "    <tr>\n",
       "      <th>8</th>\n",
       "      <td>edge of the field. Neil steps closer. THE TOMB...</td>\n",
       "    </tr>\n",
       "    <tr>\n",
       "      <th>9</th>\n",
       "      <td>special, take ya in the kitchen and suck your ...</td>\n",
       "    </tr>\n",
       "  </tbody>\n",
       "</table>\n",
       "</div>"
      ],
      "text/plain": [
       "                                                text\n",
       "0   glances at her. BOOK Maybe I ought to learn t...\n",
       "1  hout breaking stride. Tatiana sees her and can...\n",
       "2  dead bodies. GEORDI Mitchell... DePaul... LANG...\n",
       "3   take myself. BRANDON How bad is the other thi...\n",
       "4  her body to shield his own. KAY Freeze it, Bug...\n",
       "5  im from ear to ear. Ya want me to make a state...\n",
       "6   BEN We need to help Reed Sue shakes her head,...\n",
       "7  slowly. At the entrance to the alley stands a ...\n",
       "8  edge of the field. Neil steps closer. THE TOMB...\n",
       "9  special, take ya in the kitchen and suck your ..."
      ]
     },
     "execution_count": 195,
     "metadata": {},
     "output_type": "execute_result"
    }
   ],
   "source": [
    "test.drop('id', axis=1, inplace=True)\n",
    "test.head(10)"
   ]
  },
  {
   "cell_type": "code",
   "execution_count": 196,
   "metadata": {},
   "outputs": [],
   "source": [
    "from random import randint"
   ]
  },
  {
   "cell_type": "code",
   "execution_count": 197,
   "metadata": {},
   "outputs": [
    {
     "name": "stdout",
     "output_type": "stream",
     "text": [
      "Script: mistakes are going to land me back in Huntsville. CAROL nailing him I wouldn't worry Doc. I can always get you out... I'll screw every prison official in Texas if I have to. DOC Texas is a big state. CAROL I can handle it. DOC I'll bet you can. CAROL You'd do the same for me, wouldn't you, Doc? rising tone If I was caught, wouldn't you? Doc is silent. After a long pause. CAROL CONT'D continuing quietly When we had trouble before it was different. DOC nodding You don't like the way things are, I don't like the way things CAROL What do you want to do? DOC Maybe we should split up... I'll cut the money with you. CAROL Do you mean that? DOC I mean it. A long pause. Maybe she wonders what if he is lying but what if he isn't? Temptation? She makes up her mind. CAROL No... I don't want to leave. INT. PASSENGER TRAIN EARLY EVENING DOC AND CAROL WATCH THROUGH THE DOUBLE WINDOWS AS THE train yard lights of a town go strobing by. EXT. SECOND TRAIN CONCOURSE. DOC AND CAROL COME DOWN OUT OF THE GAN\n",
      "Prediction: drama\n"
     ]
    }
   ],
   "source": [
    "row = randint(0,test.shape[0]-1)\n",
    "sample_script = test.text[row]\n",
    "\n",
    "print('Script: {}'.format(sample_script))\n",
    "value = genre_predictions(sample_script)\n",
    "print('Prediction: {}'.format(list(genre_mapper.keys())[value]))"
   ]
  },
  {
   "cell_type": "code",
   "execution_count": 198,
   "metadata": {},
   "outputs": [
    {
     "name": "stdout",
     "output_type": "stream",
     "text": [
      "Script:  his car. BERLIN You be careful .. This man's close .. Catches her eyes. Can barely look at them. They're full of hate. MARGIE If you find him, John. I want you to call me. I wanna know his name. 153 EXT. HILLSIDE. OAKLAND. DAY. Wide over the bay area. Wind swept and rain swept. City lights beginning to come on. In the distance the docks and far beyond the ocean. Somewhere here is a solitary phone booth. I'm look ing for a special type of rattan .. friend of mine recommended you, said I should ask for someone called Amanda .. You don't? O.K. .. Thank you. Followed by sound of a phone slamming down. 154 INT. PHONE BOOTH. HILLSIDE STREET. DAY. A stack of coins and a pair of ripped out Yellow Pages. BERLIN crosses off another number. Running out of craft shops and run ning out of quarters. A new number hears the same old bullshit. But this one is answering good! Fights to keep his voice light. BERLIN Phone She's not there? Let me just make sure I got the right Amanda lotta freckles, right\n",
      "Prediction: thriller\n"
     ]
    }
   ],
   "source": [
    "row = randint(0,test.shape[0]-1)\n",
    "sample_script = test.text[row]\n",
    "\n",
    "print('Script: {}'.format(sample_script))\n",
    "value = genre_predictions(sample_script)\n",
    "print('Prediction: {}'.format(list(genre_mapper.keys())[value]))"
   ]
  },
  {
   "cell_type": "code",
   "execution_count": 199,
   "metadata": {},
   "outputs": [
    {
     "name": "stdout",
     "output_type": "stream",
     "text": [
      "Script: ying the Colours. The shot kills the ZULU and the Colours fall SLOW MOTION down, down into the river. Relieved, VEREKER' S head falls to the sandy bank. 280. The Colours float into CLOSE UP. 66 281. EXT. PULLEINE'S CAMP. ISANDHLWANA. DUSK. CHELMSFORD and his ESCORT ride into the camp. The air is full of smoke and the crackling of fire can still be heard. A dead soldier who has been tied to a post and disembowelled is CENTRE SCREEN. The wind begins to howl as CAMERA follows CHELMSFORD into the centre of the camp. He dismounts. Very slowly he removes his helmet. CLOSE UP of HARFORD. A solitary tear trickles down his cheek as he surveys the area with disbelief. Stationary, CHELMSFORD looks around him. Then very slowly and deliberately he walks forward towards the CAMERA. CAMERA PANS to reveal CREALOCK, still on horseback, in the back ground. He rides into focus. CREALOCK Excuse me, My LorJ There '5 something I must convey to you. 1 rode a little way along the track to Rorke '5 Drift. The \n",
      "Prediction: thriller\n"
     ]
    }
   ],
   "source": [
    "row = randint(0,test.shape[0]-1)\n",
    "sample_script = test.text[row]\n",
    "\n",
    "print('Script: {}'.format(sample_script))\n",
    "value = genre_predictions(sample_script)\n",
    "print('Prediction: {}'.format(list(genre_mapper.keys())[value]))"
   ]
  },
  {
   "cell_type": "code",
   "execution_count": null,
   "metadata": {},
   "outputs": [],
   "source": []
  }
 ],
 "metadata": {
  "kernelspec": {
   "display_name": "Python 3",
   "language": "python",
   "name": "python3"
  },
  "language_info": {
   "codemirror_mode": {
    "name": "ipython",
    "version": 3
   },
   "file_extension": ".py",
   "mimetype": "text/x-python",
   "name": "python",
   "nbconvert_exporter": "python",
   "pygments_lexer": "ipython3",
   "version": "3.8.3"
  }
 },
 "nbformat": 4,
 "nbformat_minor": 4
}
